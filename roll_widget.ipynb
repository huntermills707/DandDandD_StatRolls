{
 "cells": [
  {
   "cell_type": "code",
   "execution_count": 4,
   "metadata": {},
   "outputs": [
    {
     "name": "stdout",
     "output_type": "stream",
     "text": [
      "<class 'asyncio.windows_events._WindowsSelectorEventLoop'>\n"
     ]
    }
   ],
   "source": [
    "import asyncio\n",
    "print(asyncio.get_event_loop().__class__)\n",
    "\n",
    "from rolls import *\n",
    "\n",
    "from ipywidgets import interact_manual, widgets, Layout"
   ]
  },
  {
   "cell_type": "code",
   "execution_count": 2,
   "metadata": {},
   "outputs": [],
   "source": [
    "def run(n, s, name,\n",
    "    roll, drop_roll,\n",
    "    stat, drop_stat, replace_stat):\n",
    "    \n",
    "    if roll == 'Drop Lowest Roll':\n",
    "        dice_agg=lambda x: drop_lowest_m(x, m=drop_roll)\n",
    "    else:\n",
    "        dice_agg=sum\n",
    "        \n",
    "    if stat == 'Drop Lowest Stat':\n",
    "        print(stat)\n",
    "        stat_select = lambda x: drop_lowest_m_stat(x, drop_stat)\n",
    "        stat_adj = drop_stat\n",
    "    elif stat == 'Replace Lowest Stat':\n",
    "        print(stat)\n",
    "        stat_select = lambda x: replace_lowest_stat(x, replace_stat)\n",
    "        stat_adj=0\n",
    "    else:\n",
    "        stat_select = lambda x: x\n",
    "        stat_adj = 0\n",
    "        \n",
    "    n = [int(val) for val in n.replace(' ', '').split('\\n')]\n",
    "    s = [list(map(int,die.replace(' ', '').split(','))) for die in s.strip().split('\\n')]\n",
    "    dice = get_dice(n, s)\n",
    "    rolls = get_rolls(dice, dice_agg)\n",
    "    roll_probs = calculate_roll_probs(rolls)\n",
    "    stat_probs, mod_roll_probs = \\\n",
    "        calculate_stats(roll_probs, 6+stat_adj, stat_select)\n",
    "\n",
    "    dice_plot(mod_roll_probs, 'Individual Stats of ' + name)\n",
    "    \n",
    "    stat_plot(stat_probs, 'Cumulative Stats of ' + name)"
   ]
  },
  {
   "cell_type": "code",
   "execution_count": 3,
   "metadata": {},
   "outputs": [
    {
     "data": {
      "application/vnd.jupyter.widget-view+json": {
       "model_id": "5a1b6d01dbc24d4d8bf673524e375d67",
       "version_major": 2,
       "version_minor": 0
      },
      "text/plain": [
       "interactive(children=(Textarea(value='3', description='Number of each Dice', layout=Layout(height='100px', wid…"
      ]
     },
     "metadata": {},
     "output_type": "display_data"
    },
    {
     "data": {
      "text/plain": [
       "<function __main__.run(n, s, name, roll, drop_roll, stat, drop_stat, replace_stat)>"
      ]
     },
     "execution_count": 3,
     "metadata": {},
     "output_type": "execute_result"
    }
   ],
   "source": [
    "roll = widgets.ToggleButtons(\n",
    "    options=['Keep All', 'Drop Lowest Roll'],\n",
    "    description='Roll Modifications:',\n",
    "    style = {'description_width': 'initial'},\n",
    "    disabled=False,\n",
    "    button_style='', # 'success', 'info', 'warning', 'danger' or ''\n",
    "    tooltips=['', ''],\n",
    ")\n",
    "\n",
    "drop_roll = widgets.IntSlider(\n",
    "    value=1,\n",
    "    min=0,\n",
    "    max=3,\n",
    "    step=1,\n",
    "    description='If Dropping Rolls, How Many?:',\n",
    "    style = {'description_width': 'initial'},\n",
    "    layout = Layout(width='50%'),\n",
    "    disabled=False,\n",
    ")\n",
    "\n",
    "stat = widgets.ToggleButtons(\n",
    "    options=['Keep All', 'Drop Lowest Stat', 'Replace Lowest Stat'],\n",
    "    description='Roll Modifications:',\n",
    "    style = {'description_width': 'initial'},\n",
    "    disabled=False,\n",
    "    button_style='', # 'success', 'info', 'warning', 'danger' or ''\n",
    "    tooltips=['', ''],\n",
    ")\n",
    "\n",
    "drop_stat = widgets.IntSlider(\n",
    "    value=1,\n",
    "    min=0,\n",
    "    max=3,\n",
    "    step=1,\n",
    "    description='If Dropping Stats, How Many?:',\n",
    "    style = {'description_width': 'initial'},\n",
    "    layout = Layout(width='50%'),\n",
    "    disabled=False,\n",
    ")\n",
    "\n",
    "replace_stat = widgets.IntSlider(\n",
    "    value=1,\n",
    "    min=1,\n",
    "    max=20,\n",
    "    step=1,\n",
    "    description='If Replacing Lowest Stat, With What?:',\n",
    "    style = {'description_width': 'initial'},\n",
    "    layout = Layout(width='50%'),\n",
    "    disabled=False,\n",
    ")\n",
    "\n",
    "n = widgets.Textarea(\n",
    "    value='3',\n",
    "    placeholder='Type something',\n",
    "    description='Number of each Dice',\n",
    "    disabled=False,\n",
    "    style = {'description_width': 'initial'},\n",
    "    layout = Layout(width='50%', height='100px')\n",
    ")\n",
    "\n",
    "s = widgets.Textarea(\n",
    "    value='1,2,3,4,5,6',\n",
    "    placeholder='Type something',\n",
    "    description='Sides of each Dice ',\n",
    "    disabled=False,\n",
    "    style = {'description_width': 'initial', 'width':'10%'},\n",
    "    layout = Layout(width='50%', height='100px')\n",
    ")\n",
    "\n",
    "name = widgets.Text(\n",
    "    value='Roll 3d6',\n",
    "    placeholder='Type something',\n",
    "    description='Title of Policy ',\n",
    "    disabled=False,\n",
    "    style = {'description_width': 'initial', 'width':'10%'},\n",
    "    layout = Layout(width='50%')\n",
    ")\n",
    "\n",
    "\n",
    "interact_manual(run ,n=n, s=s,\n",
    "                roll=roll, drop_roll=drop_roll,\n",
    "                stat=stat, drop_stat=drop_stat, \n",
    "                replace_stat=replace_stat, name=name)"
   ]
  },
  {
   "cell_type": "code",
   "execution_count": null,
   "metadata": {},
   "outputs": [],
   "source": []
  }
 ],
 "metadata": {
  "kernelspec": {
   "display_name": "Python 3",
   "language": "python",
   "name": "python3"
  },
  "language_info": {
   "codemirror_mode": {
    "name": "ipython",
    "version": 3
   },
   "file_extension": ".py",
   "mimetype": "text/x-python",
   "name": "python",
   "nbconvert_exporter": "python",
   "pygments_lexer": "ipython3",
   "version": "3.8.3"
  }
 },
 "nbformat": 4,
 "nbformat_minor": 4
}
