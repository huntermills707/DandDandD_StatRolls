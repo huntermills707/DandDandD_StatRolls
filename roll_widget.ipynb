{
 "cells": [
  {
   "cell_type": "markdown",
   "metadata": {},
   "source": [
    "## Dungeon And Dragons Stat Simulator\n",
    "\n",
    "There are many variations of house rules in regard to stat generation in Dungeons and Dragons.\n",
    "Each variant has a different effect on how stats are distributed amoung PCs and NPCs assumung the stats are generated randomly (IE not via point buy). These house rules can have a significant effect on game play because these stats directly effect in game roll modifiers. Some variants may be highly variable, so some PCs could be significatlty weaker than others. This could be fun, but it does depend on playstyle.\n",
    "\n",
    "Another fun option may be giving the PCs the choice of stat generation, but at a cost. For example, if a player chooses a variant that yield lower stats, the DM may assign that PC a random bonus, or if a player chooses a variant with higher yeiding stats, the DM may assign that PC a random debuff.\n",
    "\n",
    "This tool attempts to arm DMs with knowledge of how stats are distributed during stat generation based on different sets of house rules, so DMs can make informed decisions with respect to gameplay. There are two graphics generated:\n",
    "1. Individual Stat Probabilities: This plots the probability of rolling any given stat (multiply by 100 for percent)\n",
    "2. Cumulative Stat Probabilities: This plots the probability of the value of all stats added together (multiply by 100 for percent)\n",
    "\n",
    "Both graphics also include the following statistical measures (not to be confused with character stats):\n",
    "1. Mean: This is a measure of what the average outcome would be from the stat generation\n",
    "2. Standard Deviation: This measures how widely results vary. A larger value means it varies more, and a smaller value varies less.\n",
    "3. Skewness: This measure the shape of the results. Roughly, if the peak of the curve is greater than the mean, the skew is negative, and if the peak of the curve is less than the mean, the skew is negative. In the case where the peak is the mean, the skew is zero.\n",
    "4. Kurtosis: This measures how the rate of how often values that significantly deviate from the mean occur (outliers). Higher values yields more outliers.\n",
    "\n",
    "### How to Use\n",
    "Here is a quick how to on how to run the simulator, but feel free to jump right in to using the tool! At the end are some example inputs that hopefully illustrate usage and spark ideas for DMs. The default is a bit strange, but attempts to show how to use diffent parts of the tool besides second edition's roll 3d6 for each stat. The default uses roll 1d12 + 2d6 and drop the lowest roll seven times are replace the lowest stat.\n",
    "\n",
    "#### Give it a Name!\n",
    "* Title of Variant (text box): This box gives a name to your variant. Here the default is \"Roll 1d12 + 2d6 Drop Lowest Roll x 7 Drop Lowest Stat.\"\n",
    "\n",
    "#### Selecting Dice to Roll\n",
    "* Number of each Dice (text box): This box contains the number of each type of dice used separated by a new line (enter/return key). Here the default is:\n",
    "        1\n",
    "        2\n",
    "* Sides of each Dice (text box): This box contains the sides of each type of dice used. Different sides of dice must be separated by a coma, and different dice separated by a new line (enter/return key).\n",
    "        1,2,3,4,5,6,7,8,9,10,11,12\n",
    "        1,2,3,4,5,6\n",
    "\n",
    "#### Roll Modifications\n",
    "* Keep All (button): This button indicates all rolls will be kept as is (no modification). If this is selected, the \"If Dropping Rolls, How Many?\" slider value is ignored. The default here does not have the \"Keep All\" button selected.\n",
    "* Drop Lowest Roll (button and slider): This button and the \"If Dropping Rolls, How Many?\" slider determines how many low rolls to be dropped. If the button is selected, rolls will be dropped, and the slider selects how many. Caution! when dropping rolls, please notice set the number of dice to be rolled accordingly. Here the default has the \"Drop Lowest Stat\" button selected, and the \"If Dropping Rolls, How Many?\" is set to 1.\n",
    "\n",
    "#### Stat Modifications\n",
    "* Keep All (button): This button indicates all stats will be kept as is (no modification). If this is selected, the \"If Dropping Stats, How Many?\" slider and \"If Replacing Lowest Stat, With What?\" slider values are ignored. The default here does not have the \"Keep All\" button selected.\n",
    "* Drop Lowest Stat (button and slider): This button and the \"If Stats Rolls, How Many?\" slider determines how many low stats to be dropped. If the button is selected, stats will be dropped, and the slider selects how many. Here the default has the \"Drop Lowest Roll\" button selected, and the \"If Dropping Stats, How Many?\" is set to 1.\n",
    "* Replace Lowest Stat: (button and slider): This button and the \"If Replacing Lowest Stat, With What?\" slider determines the value of the lowest stat to be replacef. If the button is selected, the lowest stat will be replace, and the slider selects the value. Here the default does not have the \"Replace Lowest Stat\" button selected.\n",
    "\n",
    "#### Run Interact\n",
    "* Run Interact (botton): when this botton is clicked, the simulation is run.\n",
    "\n",
    "### Have Fun!"
   ]
  },
  {
   "cell_type": "code",
   "execution_count": 1,
   "metadata": {},
   "outputs": [
    {
     "data": {
      "application/vnd.jupyter.widget-view+json": {
       "model_id": "9bf73da66360481a85e716426a7af830",
       "version_major": 2,
       "version_minor": 0
      },
      "text/plain": [
       "interactive(children=(Textarea(value='1\\n2', description='Number of each Dice', layout=Layout(height='100px', …"
      ]
     },
     "metadata": {},
     "output_type": "display_data"
    }
   ],
   "source": [
    "from widget_runner import run_widget\n",
    "\n",
    "run_widget()"
   ]
  },
  {
   "cell_type": "markdown",
   "metadata": {},
   "source": [
    "### Examples\n",
    "\n",
    "Here are somesample inputs.\n",
    "\n",
    "#### Roll 4d6 Drop Lowest Roll x 7 and Drop Lowest Stat\n",
    "* Name of Variant:\n",
    "    Roll 4d6 Drop Lowest Roll x 7 and Drop Lowest Stat\n",
    "* Number of each Dice (text box):\n",
    "    4\n",
    "* Sides of each Dice (text box): \n",
    "    1,2,3,4,5,6\n",
    "Roll Modifications:\n",
    "* Keep All (button): Not Selected\n",
    "* Drop Lowest Roll (button): Selected\n",
    "* If Dropping Rolls, How Many? (slider): 1\n",
    "Stat Modifications:\n",
    "* Keep All (button): Not Selected\n",
    "* Drop Lowest Stat (button): Selected\n",
    "* Replace Lowest Stat (button): Not Selected\n",
    "* If Dropping Stats, How Many? (slider): 1\n",
    "* If Replacing Lowest Stat, With What? (slider): Any\n",
    "\n",
    "#### Roll 3d6 1's are 6's and Replace Lowest Stat with 18\n",
    "* Name of Variant:\n",
    "    Roll 3d6 1's are 6's and Replace Lowest Stat with 18\n",
    "* Number of each Dice (text box):\n",
    "    3\n",
    "* Sides of each Dice (text box):\n",
    "    6,2,3,4,5,6\n",
    "Roll Modifications:\n",
    "* Keep All (button): Selected\n",
    "* Drop Lowest Roll (button): Not Selected\n",
    "* If Dropping Rolls, How Many? (slider): Any\n",
    "Stat Modifications:\n",
    "* Keep All (button): Not Selected\n",
    "* Drop Lowest Stat (button): Not Selected\n",
    "* Replace Lowest Stat (button): Selected\n",
    "* If Dropping Stats, How Many? (slider): Any\n",
    "* If Replacing Lowest Stat, With What? (slider): 18\n",
    "\n",
    "#### Roll 1d4 + 1d6 + 1d8\n",
    "* Name of Variant: Roll 1d4 + 1d6 + 1d8\n",
    "* Number of each Dice (text box):\n",
    "    1\n",
    "    1\n",
    "    1\n",
    "* Sides of each Dice (text box):\n",
    "    1,2,3,4\n",
    "    1,2,3,4,5,6\n",
    "    1,2,3,4,5,6,7,8\n",
    "Roll Modifications:\n",
    "* Keep All (button): Selected\n",
    "* Drop Lowest Roll (button): Not Selected\n",
    "* If Dropping Rolls, How Many? (slider): Not Selected\n",
    "Stat Modifications:\n",
    "* Keep All (button): Selected\n",
    "* Drop Lowest Stat (button): Not Selected\n",
    "* Replace Lowest Stat (button): Not Selected\n",
    "* If Dropping Stats, How Many? (slider): Any\n",
    "* If Replacing Lowest Stat, With What? (slider): Any"
   ]
  }
 ],
 "metadata": {
  "kernelspec": {
   "display_name": "Python 3",
   "language": "python",
   "name": "python3"
  },
  "language_info": {
   "codemirror_mode": {
    "name": "ipython",
    "version": 3
   },
   "file_extension": ".py",
   "mimetype": "text/x-python",
   "name": "python",
   "nbconvert_exporter": "python",
   "pygments_lexer": "ipython3",
   "version": "3.8.3"
  }
 },
 "nbformat": 4,
 "nbformat_minor": 4
}
